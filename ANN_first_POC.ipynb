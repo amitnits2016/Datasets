{
  "nbformat": 4,
  "nbformat_minor": 0,
  "metadata": {
    "colab": {
      "name": "ANN_first_POC.ipynb",
      "provenance": [],
      "include_colab_link": true
    },
    "kernelspec": {
      "name": "python3",
      "display_name": "Python 3"
    },
    "accelerator": "GPU"
  },
  "cells": [
    {
      "cell_type": "markdown",
      "metadata": {
        "id": "view-in-github",
        "colab_type": "text"
      },
      "source": [
        "<a href=\"https://colab.research.google.com/github/amitnits2016/Datasets/blob/master/ANN_first_POC.ipynb\" target=\"_parent\"><img src=\"https://colab.research.google.com/assets/colab-badge.svg\" alt=\"Open In Colab\"/></a>"
      ]
    },
    {
      "cell_type": "code",
      "metadata": {
        "id": "qUKOtInikm99",
        "colab_type": "code",
        "colab": {}
      },
      "source": [
        " "
      ],
      "execution_count": 0,
      "outputs": []
    },
    {
      "cell_type": "code",
      "metadata": {
        "id": "v6ZJxPnS2T-_",
        "colab_type": "code",
        "colab": {
          "base_uri": "https://localhost:8080/",
          "height": 122
        },
        "outputId": "612c5b9e-05f5-41fd-8ddc-291e363619a3"
      },
      "source": [
        "from google.colab import drive\n",
        "drive.mount('/content/drive')"
      ],
      "execution_count": 5,
      "outputs": [
        {
          "output_type": "stream",
          "text": [
            "Go to this URL in a browser: https://accounts.google.com/o/oauth2/auth?client_id=947318989803-6bn6qk8qdgf4n4g3pfee6491hc0brc4i.apps.googleusercontent.com&redirect_uri=urn%3aietf%3awg%3aoauth%3a2.0%3aoob&response_type=code&scope=email%20https%3a%2f%2fwww.googleapis.com%2fauth%2fdocs.test%20https%3a%2f%2fwww.googleapis.com%2fauth%2fdrive%20https%3a%2f%2fwww.googleapis.com%2fauth%2fdrive.photos.readonly%20https%3a%2f%2fwww.googleapis.com%2fauth%2fpeopleapi.readonly\n",
            "\n",
            "Enter your authorization code:\n",
            "··········\n",
            "Mounted at /content/drive\n"
          ],
          "name": "stdout"
        }
      ]
    },
    {
      "cell_type": "code",
      "metadata": {
        "id": "dKo27R9654gf",
        "colab_type": "code",
        "colab": {}
      },
      "source": [
        "!pip install -q keras"
      ],
      "execution_count": 0,
      "outputs": []
    },
    {
      "cell_type": "code",
      "metadata": {
        "id": "vDVHq_9R6NF9",
        "colab_type": "code",
        "colab": {}
      },
      "source": [
        "import pandas as pd\n",
        "import numpy as np\n",
        "import matplotlib.pyplot as plt"
      ],
      "execution_count": 0,
      "outputs": []
    },
    {
      "cell_type": "code",
      "metadata": {
        "id": "aqJbmC0k65m0",
        "colab_type": "code",
        "colab": {
          "base_uri": "https://localhost:8080/",
          "height": 1000
        },
        "outputId": "f27187b8-3956-41ac-e2e0-0d734454b04f"
      },
      "source": [
        "dataset = pd.read_csv('/content/drive/My Drive/Colab_Notebooks/ANN/Churn_Modelling.csv')\n",
        "# Importing the dataset\n",
        "X = dataset.iloc[:, 3:13]\n",
        "y = dataset.iloc[:, 13]\n",
        "#Create dummy variables\n",
        "geography=pd.get_dummies(X[\"Geography\"],drop_first=True)\n",
        "gender=pd.get_dummies(X['Gender'],drop_first=True)\n",
        "## Concatenate the Data Frames\n",
        "X=pd.concat([X,geography,gender],axis=1)\n",
        "## Drop Unnecessary columns\n",
        "X=X.drop(['Geography','Gender'],axis=1)\n",
        "# Splitting the dataset into the Training set and Test set\n",
        "from sklearn.model_selection import train_test_split\n",
        "X_train, X_test, y_train, y_test = train_test_split(X, y, test_size = 0.2, random_state = 0)\n",
        "# Feature Scaling\n",
        "from sklearn.preprocessing import StandardScaler\n",
        "sc = StandardScaler()\n",
        "X_train = sc.fit_transform(X_train)\n",
        "X_test = sc.transform(X_test)\n",
        "# Importing the Keras libraries and packages\n",
        "import keras\n",
        "from keras.models import Sequential\n",
        "from keras.layers import Dense\n",
        "# from keras.layers import LeakyReLU,PReLU,ELU\n",
        "# from keras.layers import Dropout\n",
        "# Initialising the ANN\n",
        "classifier = Sequential()\n",
        "# Adding the input layer and the first hidden layer\n",
        "classifier.add(Dense(units = 6, kernel_initializer = 'he_uniform',activation='relu',input_dim = 11))\n",
        "\n",
        "# Adding the second hidden layer\n",
        "classifier.add(Dense(units = 6, kernel_initializer = 'he_uniform',activation='relu'))\n",
        "# Adding the output layer\n",
        "classifier.add(Dense(units = 1, kernel_initializer = 'glorot_uniform', activation = 'sigmoid'))\n",
        "# Compiling the ANN\n",
        "classifier.compile(optimizer = 'Adamax', loss = 'binary_crossentropy', metrics = ['accuracy'])\n",
        "# Fitting the ANN to the Training set\n",
        "model_history=classifier.fit(X_train, y_train,validation_split=0.33, batch_size = 10, nb_epoch = 100)\n",
        "# list all data in history\n",
        "print(model_history.history.keys())\n",
        "# Predicting the Test set results\n",
        "y_pred = classifier.predict(X_test)\n",
        "y_pred = (y_pred > 0.5)\n",
        "# Making the Confusion Matrix\n",
        "from sklearn.metrics import confusion_matrix\n",
        "cm = confusion_matrix(y_test, y_pred)\n",
        "# Calculate the Accuracy\n",
        "from sklearn.metrics import accuracy_score\n",
        "score=accuracy_score(y_pred,y_test)\n",
        "print(score)"
      ],
      "execution_count": 9,
      "outputs": [
        {
          "output_type": "stream",
          "text": [
            "WARNING:tensorflow:From /usr/local/lib/python3.6/dist-packages/keras/optimizers.py:793: The name tf.train.Optimizer is deprecated. Please use tf.compat.v1.train.Optimizer instead.\n",
            "\n",
            "WARNING:tensorflow:From /usr/local/lib/python3.6/dist-packages/tensorflow_core/python/ops/nn_impl.py:183: where (from tensorflow.python.ops.array_ops) is deprecated and will be removed in a future version.\n",
            "Instructions for updating:\n",
            "Use tf.where in 2.0, which has the same broadcast rule as np.where\n"
          ],
          "name": "stdout"
        },
        {
          "output_type": "stream",
          "text": [
            "Using TensorFlow backend.\n",
            "/usr/local/lib/python3.6/dist-packages/ipykernel_launcher.py:38: UserWarning: The `nb_epoch` argument in `fit` has been renamed `epochs`.\n"
          ],
          "name": "stderr"
        },
        {
          "output_type": "stream",
          "text": [
            "Train on 5359 samples, validate on 2641 samples\n",
            "Epoch 1/100\n",
            "5359/5359 [==============================] - 11s 2ms/step - loss: 0.5101 - acc: 0.7962 - val_loss: 0.4893 - val_acc: 0.7955\n",
            "Epoch 2/100\n",
            "5359/5359 [==============================] - 3s 477us/step - loss: 0.4702 - acc: 0.7962 - val_loss: 0.4638 - val_acc: 0.7955\n",
            "Epoch 3/100\n",
            "5359/5359 [==============================] - 3s 476us/step - loss: 0.4516 - acc: 0.7962 - val_loss: 0.4518 - val_acc: 0.7955\n",
            "Epoch 4/100\n",
            "5359/5359 [==============================] - 3s 475us/step - loss: 0.4428 - acc: 0.7962 - val_loss: 0.4471 - val_acc: 0.7955\n",
            "Epoch 5/100\n",
            "5359/5359 [==============================] - 3s 482us/step - loss: 0.4384 - acc: 0.7962 - val_loss: 0.4443 - val_acc: 0.7955\n",
            "Epoch 6/100\n",
            "5359/5359 [==============================] - 3s 493us/step - loss: 0.4356 - acc: 0.7962 - val_loss: 0.4424 - val_acc: 0.7955\n",
            "Epoch 7/100\n",
            "5359/5359 [==============================] - 3s 479us/step - loss: 0.4334 - acc: 0.7962 - val_loss: 0.4411 - val_acc: 0.7955\n",
            "Epoch 8/100\n",
            "5359/5359 [==============================] - 3s 490us/step - loss: 0.4318 - acc: 0.7962 - val_loss: 0.4401 - val_acc: 0.7955\n",
            "Epoch 9/100\n",
            "5359/5359 [==============================] - 3s 479us/step - loss: 0.4305 - acc: 0.7962 - val_loss: 0.4393 - val_acc: 0.7955\n",
            "Epoch 10/100\n",
            "5359/5359 [==============================] - 3s 489us/step - loss: 0.4294 - acc: 0.7962 - val_loss: 0.4385 - val_acc: 0.7955\n",
            "Epoch 11/100\n",
            "5359/5359 [==============================] - 3s 475us/step - loss: 0.4285 - acc: 0.7962 - val_loss: 0.4378 - val_acc: 0.7955\n",
            "Epoch 12/100\n",
            "5359/5359 [==============================] - 3s 479us/step - loss: 0.4276 - acc: 0.7962 - val_loss: 0.4371 - val_acc: 0.7955\n",
            "Epoch 13/100\n",
            "5359/5359 [==============================] - 3s 478us/step - loss: 0.4266 - acc: 0.7962 - val_loss: 0.4361 - val_acc: 0.7955\n",
            "Epoch 14/100\n",
            "5359/5359 [==============================] - 3s 474us/step - loss: 0.4257 - acc: 0.7962 - val_loss: 0.4354 - val_acc: 0.7955\n",
            "Epoch 15/100\n",
            "5359/5359 [==============================] - 3s 476us/step - loss: 0.4249 - acc: 0.7962 - val_loss: 0.4347 - val_acc: 0.7955\n",
            "Epoch 16/100\n",
            "5359/5359 [==============================] - 3s 485us/step - loss: 0.4241 - acc: 0.7962 - val_loss: 0.4339 - val_acc: 0.7955\n",
            "Epoch 17/100\n",
            "5359/5359 [==============================] - 3s 471us/step - loss: 0.4230 - acc: 0.7962 - val_loss: 0.4333 - val_acc: 0.7955\n",
            "Epoch 18/100\n",
            "5359/5359 [==============================] - 3s 473us/step - loss: 0.4223 - acc: 0.7970 - val_loss: 0.4328 - val_acc: 0.7955\n",
            "Epoch 19/100\n",
            "5359/5359 [==============================] - 3s 468us/step - loss: 0.4211 - acc: 0.8007 - val_loss: 0.4321 - val_acc: 0.7978\n",
            "Epoch 20/100\n",
            "5359/5359 [==============================] - 3s 486us/step - loss: 0.4201 - acc: 0.8001 - val_loss: 0.4314 - val_acc: 0.8005\n",
            "Epoch 21/100\n",
            "5359/5359 [==============================] - 3s 471us/step - loss: 0.4191 - acc: 0.8071 - val_loss: 0.4308 - val_acc: 0.8001\n",
            "Epoch 22/100\n",
            "5359/5359 [==============================] - 3s 474us/step - loss: 0.4179 - acc: 0.8072 - val_loss: 0.4308 - val_acc: 0.8031\n",
            "Epoch 23/100\n",
            "5359/5359 [==============================] - 2s 461us/step - loss: 0.4169 - acc: 0.8104 - val_loss: 0.4291 - val_acc: 0.8012\n",
            "Epoch 24/100\n",
            "5359/5359 [==============================] - 3s 481us/step - loss: 0.4154 - acc: 0.8121 - val_loss: 0.4279 - val_acc: 0.8042\n",
            "Epoch 25/100\n",
            "5359/5359 [==============================] - 3s 479us/step - loss: 0.4140 - acc: 0.8168 - val_loss: 0.4262 - val_acc: 0.8061\n",
            "Epoch 26/100\n",
            "5359/5359 [==============================] - 3s 485us/step - loss: 0.4121 - acc: 0.8173 - val_loss: 0.4248 - val_acc: 0.8065\n",
            "Epoch 27/100\n",
            "5359/5359 [==============================] - 2s 458us/step - loss: 0.4101 - acc: 0.8203 - val_loss: 0.4228 - val_acc: 0.8088\n",
            "Epoch 28/100\n",
            "5359/5359 [==============================] - 2s 457us/step - loss: 0.4080 - acc: 0.8233 - val_loss: 0.4207 - val_acc: 0.8107\n",
            "Epoch 29/100\n",
            "5359/5359 [==============================] - 3s 471us/step - loss: 0.4055 - acc: 0.8244 - val_loss: 0.4186 - val_acc: 0.8122\n",
            "Epoch 30/100\n",
            "5359/5359 [==============================] - 3s 469us/step - loss: 0.4024 - acc: 0.8281 - val_loss: 0.4157 - val_acc: 0.8145\n",
            "Epoch 31/100\n",
            "5359/5359 [==============================] - 3s 476us/step - loss: 0.3988 - acc: 0.8304 - val_loss: 0.4124 - val_acc: 0.8186\n",
            "Epoch 32/100\n",
            "5359/5359 [==============================] - 3s 492us/step - loss: 0.3956 - acc: 0.8334 - val_loss: 0.4095 - val_acc: 0.8213\n",
            "Epoch 33/100\n",
            "5359/5359 [==============================] - 3s 491us/step - loss: 0.3921 - acc: 0.8352 - val_loss: 0.4062 - val_acc: 0.8236\n",
            "Epoch 34/100\n",
            "5359/5359 [==============================] - 3s 470us/step - loss: 0.3891 - acc: 0.8388 - val_loss: 0.4031 - val_acc: 0.8262\n",
            "Epoch 35/100\n",
            "5359/5359 [==============================] - 2s 462us/step - loss: 0.3860 - acc: 0.8406 - val_loss: 0.4002 - val_acc: 0.8258\n",
            "Epoch 36/100\n",
            "5359/5359 [==============================] - 3s 479us/step - loss: 0.3824 - acc: 0.8427 - val_loss: 0.3966 - val_acc: 0.8266\n",
            "Epoch 37/100\n",
            "5359/5359 [==============================] - 2s 462us/step - loss: 0.3786 - acc: 0.8447 - val_loss: 0.3935 - val_acc: 0.8296\n",
            "Epoch 38/100\n",
            "5359/5359 [==============================] - 2s 460us/step - loss: 0.3748 - acc: 0.8466 - val_loss: 0.3903 - val_acc: 0.8311\n",
            "Epoch 39/100\n",
            "5359/5359 [==============================] - 2s 464us/step - loss: 0.3711 - acc: 0.8490 - val_loss: 0.3868 - val_acc: 0.8353\n",
            "Epoch 40/100\n",
            "5359/5359 [==============================] - 3s 489us/step - loss: 0.3674 - acc: 0.8502 - val_loss: 0.3834 - val_acc: 0.8353\n",
            "Epoch 41/100\n",
            "5359/5359 [==============================] - 3s 503us/step - loss: 0.3643 - acc: 0.8505 - val_loss: 0.3812 - val_acc: 0.8360\n",
            "Epoch 42/100\n",
            "5359/5359 [==============================] - 3s 471us/step - loss: 0.3614 - acc: 0.8535 - val_loss: 0.3794 - val_acc: 0.8364\n",
            "Epoch 43/100\n",
            "5359/5359 [==============================] - 3s 480us/step - loss: 0.3590 - acc: 0.8543 - val_loss: 0.3765 - val_acc: 0.8395\n",
            "Epoch 44/100\n",
            "5359/5359 [==============================] - 3s 469us/step - loss: 0.3564 - acc: 0.8548 - val_loss: 0.3756 - val_acc: 0.8398\n",
            "Epoch 45/100\n",
            "5359/5359 [==============================] - 3s 467us/step - loss: 0.3548 - acc: 0.8554 - val_loss: 0.3736 - val_acc: 0.8410\n",
            "Epoch 46/100\n",
            "5359/5359 [==============================] - 3s 473us/step - loss: 0.3529 - acc: 0.8554 - val_loss: 0.3724 - val_acc: 0.8451\n",
            "Epoch 47/100\n",
            "5359/5359 [==============================] - 2s 459us/step - loss: 0.3514 - acc: 0.8572 - val_loss: 0.3713 - val_acc: 0.8455\n",
            "Epoch 48/100\n",
            "5359/5359 [==============================] - 3s 479us/step - loss: 0.3500 - acc: 0.8597 - val_loss: 0.3693 - val_acc: 0.8474\n",
            "Epoch 49/100\n",
            "5359/5359 [==============================] - 3s 475us/step - loss: 0.3487 - acc: 0.8600 - val_loss: 0.3685 - val_acc: 0.8466\n",
            "Epoch 50/100\n",
            "5359/5359 [==============================] - 3s 467us/step - loss: 0.3479 - acc: 0.8597 - val_loss: 0.3681 - val_acc: 0.8478\n",
            "Epoch 51/100\n",
            "5359/5359 [==============================] - 2s 456us/step - loss: 0.3469 - acc: 0.8612 - val_loss: 0.3668 - val_acc: 0.8501\n",
            "Epoch 52/100\n",
            "5359/5359 [==============================] - 2s 457us/step - loss: 0.3459 - acc: 0.8606 - val_loss: 0.3660 - val_acc: 0.8516\n",
            "Epoch 53/100\n",
            "5359/5359 [==============================] - 2s 462us/step - loss: 0.3454 - acc: 0.8619 - val_loss: 0.3660 - val_acc: 0.8523\n",
            "Epoch 54/100\n",
            "5359/5359 [==============================] - 3s 474us/step - loss: 0.3446 - acc: 0.8614 - val_loss: 0.3658 - val_acc: 0.8504\n",
            "Epoch 55/100\n",
            "5359/5359 [==============================] - 2s 462us/step - loss: 0.3441 - acc: 0.8621 - val_loss: 0.3649 - val_acc: 0.8527\n",
            "Epoch 56/100\n",
            "5359/5359 [==============================] - 3s 467us/step - loss: 0.3435 - acc: 0.8619 - val_loss: 0.3641 - val_acc: 0.8516\n",
            "Epoch 57/100\n",
            "5359/5359 [==============================] - 3s 468us/step - loss: 0.3431 - acc: 0.8636 - val_loss: 0.3651 - val_acc: 0.8504\n",
            "Epoch 58/100\n",
            "5359/5359 [==============================] - 3s 469us/step - loss: 0.3427 - acc: 0.8617 - val_loss: 0.3639 - val_acc: 0.8512\n",
            "Epoch 59/100\n",
            "5359/5359 [==============================] - 3s 470us/step - loss: 0.3420 - acc: 0.8610 - val_loss: 0.3644 - val_acc: 0.8497\n",
            "Epoch 60/100\n",
            "5359/5359 [==============================] - 2s 464us/step - loss: 0.3421 - acc: 0.8615 - val_loss: 0.3638 - val_acc: 0.8520\n",
            "Epoch 61/100\n",
            "5359/5359 [==============================] - 2s 461us/step - loss: 0.3412 - acc: 0.8600 - val_loss: 0.3638 - val_acc: 0.8508\n",
            "Epoch 62/100\n",
            "5359/5359 [==============================] - 3s 480us/step - loss: 0.3414 - acc: 0.8612 - val_loss: 0.3632 - val_acc: 0.8527\n",
            "Epoch 63/100\n",
            "5359/5359 [==============================] - 3s 471us/step - loss: 0.3410 - acc: 0.8621 - val_loss: 0.3638 - val_acc: 0.8497\n",
            "Epoch 64/100\n",
            "5359/5359 [==============================] - 2s 464us/step - loss: 0.3408 - acc: 0.8617 - val_loss: 0.3631 - val_acc: 0.8516\n",
            "Epoch 65/100\n",
            "5359/5359 [==============================] - 3s 476us/step - loss: 0.3405 - acc: 0.8621 - val_loss: 0.3626 - val_acc: 0.8516\n",
            "Epoch 66/100\n",
            "5359/5359 [==============================] - 2s 452us/step - loss: 0.3401 - acc: 0.8627 - val_loss: 0.3630 - val_acc: 0.8531\n",
            "Epoch 67/100\n",
            "5359/5359 [==============================] - 2s 458us/step - loss: 0.3400 - acc: 0.8638 - val_loss: 0.3625 - val_acc: 0.8531\n",
            "Epoch 68/100\n",
            "5359/5359 [==============================] - 2s 461us/step - loss: 0.3398 - acc: 0.8638 - val_loss: 0.3624 - val_acc: 0.8523\n",
            "Epoch 69/100\n",
            "5359/5359 [==============================] - 2s 466us/step - loss: 0.3394 - acc: 0.8628 - val_loss: 0.3628 - val_acc: 0.8516\n",
            "Epoch 70/100\n",
            "5359/5359 [==============================] - 3s 472us/step - loss: 0.3393 - acc: 0.8625 - val_loss: 0.3629 - val_acc: 0.8520\n",
            "Epoch 71/100\n",
            "5359/5359 [==============================] - 2s 466us/step - loss: 0.3393 - acc: 0.8627 - val_loss: 0.3625 - val_acc: 0.8527\n",
            "Epoch 72/100\n",
            "5359/5359 [==============================] - 3s 476us/step - loss: 0.3390 - acc: 0.8634 - val_loss: 0.3625 - val_acc: 0.8538\n",
            "Epoch 73/100\n",
            "5359/5359 [==============================] - 3s 471us/step - loss: 0.3389 - acc: 0.8636 - val_loss: 0.3618 - val_acc: 0.8535\n",
            "Epoch 74/100\n",
            "5359/5359 [==============================] - 3s 473us/step - loss: 0.3383 - acc: 0.8615 - val_loss: 0.3611 - val_acc: 0.8538\n",
            "Epoch 75/100\n",
            "5359/5359 [==============================] - 3s 472us/step - loss: 0.3382 - acc: 0.8651 - val_loss: 0.3616 - val_acc: 0.8565\n",
            "Epoch 76/100\n",
            "5359/5359 [==============================] - 3s 477us/step - loss: 0.3377 - acc: 0.8610 - val_loss: 0.3617 - val_acc: 0.8523\n",
            "Epoch 77/100\n",
            "5359/5359 [==============================] - 2s 464us/step - loss: 0.3380 - acc: 0.8628 - val_loss: 0.3612 - val_acc: 0.8554\n",
            "Epoch 78/100\n",
            "5359/5359 [==============================] - 2s 465us/step - loss: 0.3377 - acc: 0.8634 - val_loss: 0.3610 - val_acc: 0.8557\n",
            "Epoch 79/100\n",
            "5359/5359 [==============================] - 3s 475us/step - loss: 0.3377 - acc: 0.8627 - val_loss: 0.3607 - val_acc: 0.8561\n",
            "Epoch 80/100\n",
            "5359/5359 [==============================] - 2s 461us/step - loss: 0.3376 - acc: 0.8645 - val_loss: 0.3612 - val_acc: 0.8561\n",
            "Epoch 81/100\n",
            "5359/5359 [==============================] - 3s 470us/step - loss: 0.3373 - acc: 0.8625 - val_loss: 0.3605 - val_acc: 0.8535\n",
            "Epoch 82/100\n",
            "5359/5359 [==============================] - 2s 463us/step - loss: 0.3370 - acc: 0.8628 - val_loss: 0.3610 - val_acc: 0.8538\n",
            "Epoch 83/100\n",
            "5359/5359 [==============================] - 2s 465us/step - loss: 0.3371 - acc: 0.8630 - val_loss: 0.3599 - val_acc: 0.8546\n",
            "Epoch 84/100\n",
            "5359/5359 [==============================] - 2s 458us/step - loss: 0.3370 - acc: 0.8638 - val_loss: 0.3597 - val_acc: 0.8538\n",
            "Epoch 85/100\n",
            "5359/5359 [==============================] - 3s 469us/step - loss: 0.3369 - acc: 0.8619 - val_loss: 0.3597 - val_acc: 0.8546\n",
            "Epoch 86/100\n",
            "5359/5359 [==============================] - 3s 475us/step - loss: 0.3366 - acc: 0.8649 - val_loss: 0.3598 - val_acc: 0.8557\n",
            "Epoch 87/100\n",
            "5359/5359 [==============================] - 3s 481us/step - loss: 0.3365 - acc: 0.8649 - val_loss: 0.3597 - val_acc: 0.8546\n",
            "Epoch 88/100\n",
            "5359/5359 [==============================] - 2s 457us/step - loss: 0.3364 - acc: 0.8643 - val_loss: 0.3592 - val_acc: 0.8569\n",
            "Epoch 89/100\n",
            "5359/5359 [==============================] - 3s 467us/step - loss: 0.3363 - acc: 0.8636 - val_loss: 0.3592 - val_acc: 0.8557\n",
            "Epoch 90/100\n",
            "5359/5359 [==============================] - 2s 463us/step - loss: 0.3361 - acc: 0.8640 - val_loss: 0.3586 - val_acc: 0.8554\n",
            "Epoch 91/100\n",
            "5359/5359 [==============================] - 3s 478us/step - loss: 0.3360 - acc: 0.8632 - val_loss: 0.3592 - val_acc: 0.8576\n",
            "Epoch 92/100\n",
            "5359/5359 [==============================] - 2s 465us/step - loss: 0.3359 - acc: 0.8636 - val_loss: 0.3590 - val_acc: 0.8542\n",
            "Epoch 93/100\n",
            "5359/5359 [==============================] - 3s 480us/step - loss: 0.3359 - acc: 0.8628 - val_loss: 0.3584 - val_acc: 0.8557\n",
            "Epoch 94/100\n",
            "5359/5359 [==============================] - 3s 475us/step - loss: 0.3354 - acc: 0.8630 - val_loss: 0.3585 - val_acc: 0.8554\n",
            "Epoch 95/100\n",
            "5359/5359 [==============================] - 2s 465us/step - loss: 0.3354 - acc: 0.8643 - val_loss: 0.3587 - val_acc: 0.8550\n",
            "Epoch 96/100\n",
            "5359/5359 [==============================] - 3s 473us/step - loss: 0.3353 - acc: 0.8630 - val_loss: 0.3588 - val_acc: 0.8550\n",
            "Epoch 97/100\n",
            "5359/5359 [==============================] - 3s 472us/step - loss: 0.3350 - acc: 0.8625 - val_loss: 0.3589 - val_acc: 0.8550\n",
            "Epoch 98/100\n",
            "5359/5359 [==============================] - 3s 471us/step - loss: 0.3348 - acc: 0.8630 - val_loss: 0.3589 - val_acc: 0.8554\n",
            "Epoch 99/100\n",
            "5359/5359 [==============================] - 3s 468us/step - loss: 0.3347 - acc: 0.8636 - val_loss: 0.3582 - val_acc: 0.8554\n",
            "Epoch 100/100\n",
            "5359/5359 [==============================] - 2s 465us/step - loss: 0.3348 - acc: 0.8625 - val_loss: 0.3579 - val_acc: 0.8565\n",
            "dict_keys(['val_loss', 'val_acc', 'loss', 'acc'])\n",
            "0.8595\n"
          ],
          "name": "stdout"
        }
      ]
    },
    {
      "cell_type": "markdown",
      "metadata": {
        "id": "CfaMpLPA21Uh",
        "colab_type": "text"
      },
      "source": [
        "<b>Test Whether GPU is working</b>\n",
        "\n"
      ]
    },
    {
      "cell_type": "code",
      "metadata": {
        "id": "x3iAasAh3Qyz",
        "colab_type": "code",
        "colab": {
          "base_uri": "https://localhost:8080/",
          "height": 80
        },
        "outputId": "31f0abef-3d55-47c3-ee6a-fe54e442a55d"
      },
      "source": [
        "import tensorflow as tf\n",
        "tf.test.gpu_device_name()"
      ],
      "execution_count": 1,
      "outputs": [
        {
          "output_type": "display_data",
          "data": {
            "text/html": [
              "<p style=\"color: red;\">\n",
              "The default version of TensorFlow in Colab will soon switch to TensorFlow 2.x.<br>\n",
              "We recommend you <a href=\"https://www.tensorflow.org/guide/migrate\" target=\"_blank\">upgrade</a> now \n",
              "or ensure your notebook will continue to use TensorFlow 1.x via the <code>%tensorflow_version 1.x</code> magic:\n",
              "<a href=\"https://colab.research.google.com/notebooks/tensorflow_version.ipynb\" target=\"_blank\">more info</a>.</p>\n"
            ],
            "text/plain": [
              "<IPython.core.display.HTML object>"
            ]
          },
          "metadata": {
            "tags": []
          }
        },
        {
          "output_type": "execute_result",
          "data": {
            "text/plain": [
              "'/device:GPU:0'"
            ]
          },
          "metadata": {
            "tags": []
          },
          "execution_count": 1
        }
      ]
    },
    {
      "cell_type": "markdown",
      "metadata": {
        "id": "hCgA2BcD4LQu",
        "colab_type": "text"
      },
      "source": [
        "**Which GPU We are using**"
      ]
    },
    {
      "cell_type": "code",
      "metadata": {
        "id": "bbz5ZR9q370b",
        "colab_type": "code",
        "colab": {
          "base_uri": "https://localhost:8080/",
          "height": 476
        },
        "outputId": "b3f536e8-e3dc-4e6f-c6a3-3516578eccd1"
      },
      "source": [
        "from tensorflow.python.client import device_lib\n",
        "device_lib.list_local_devices()"
      ],
      "execution_count": 2,
      "outputs": [
        {
          "output_type": "execute_result",
          "data": {
            "text/plain": [
              "[name: \"/device:CPU:0\"\n",
              " device_type: \"CPU\"\n",
              " memory_limit: 268435456\n",
              " locality {\n",
              " }\n",
              " incarnation: 14667901000123939575, name: \"/device:XLA_CPU:0\"\n",
              " device_type: \"XLA_CPU\"\n",
              " memory_limit: 17179869184\n",
              " locality {\n",
              " }\n",
              " incarnation: 13124182433137294910\n",
              " physical_device_desc: \"device: XLA_CPU device\", name: \"/device:XLA_GPU:0\"\n",
              " device_type: \"XLA_GPU\"\n",
              " memory_limit: 17179869184\n",
              " locality {\n",
              " }\n",
              " incarnation: 5592041410291438011\n",
              " physical_device_desc: \"device: XLA_GPU device\", name: \"/device:GPU:0\"\n",
              " device_type: \"GPU\"\n",
              " memory_limit: 15956161332\n",
              " locality {\n",
              "   bus_id: 1\n",
              "   links {\n",
              "   }\n",
              " }\n",
              " incarnation: 2331948313600410470\n",
              " physical_device_desc: \"device: 0, name: Tesla P100-PCIE-16GB, pci bus id: 0000:00:04.0, compute capability: 6.0\"]"
            ]
          },
          "metadata": {
            "tags": []
          },
          "execution_count": 2
        }
      ]
    },
    {
      "cell_type": "markdown",
      "metadata": {
        "id": "qJJ4DzQP47cw",
        "colab_type": "text"
      },
      "source": [
        "**RAM Informtion**"
      ]
    },
    {
      "cell_type": "code",
      "metadata": {
        "id": "vkuxdcom4-SI",
        "colab_type": "code",
        "colab": {
          "base_uri": "https://localhost:8080/",
          "height": 782
        },
        "outputId": "948bf888-4c21-46ce-a96c-3cdfb4ffa633"
      },
      "source": [
        "!cat /proc/meminfo"
      ],
      "execution_count": 3,
      "outputs": [
        {
          "output_type": "stream",
          "text": [
            "MemTotal:       13335188 kB\n",
            "MemFree:        10266576 kB\n",
            "MemAvailable:   12254384 kB\n",
            "Buffers:           75552 kB\n",
            "Cached:          2025296 kB\n",
            "SwapCached:            0 kB\n",
            "Active:           821160 kB\n",
            "Inactive:        1845016 kB\n",
            "Active(anon):     491640 kB\n",
            "Inactive(anon):     8524 kB\n",
            "Active(file):     329520 kB\n",
            "Inactive(file):  1836492 kB\n",
            "Unevictable:           0 kB\n",
            "Mlocked:               0 kB\n",
            "SwapTotal:             0 kB\n",
            "SwapFree:              0 kB\n",
            "Dirty:               488 kB\n",
            "Writeback:             0 kB\n",
            "AnonPages:        565324 kB\n",
            "Mapped:           461436 kB\n",
            "Shmem:              9088 kB\n",
            "Slab:             165260 kB\n",
            "SReclaimable:     125600 kB\n",
            "SUnreclaim:        39660 kB\n",
            "KernelStack:        3808 kB\n",
            "PageTables:         6848 kB\n",
            "NFS_Unstable:          0 kB\n",
            "Bounce:                0 kB\n",
            "WritebackTmp:          0 kB\n",
            "CommitLimit:     6667592 kB\n",
            "Committed_AS:    3146688 kB\n",
            "VmallocTotal:   34359738367 kB\n",
            "VmallocUsed:           0 kB\n",
            "VmallocChunk:          0 kB\n",
            "AnonHugePages:         0 kB\n",
            "ShmemHugePages:        0 kB\n",
            "ShmemPmdMapped:        0 kB\n",
            "HugePages_Total:       0\n",
            "HugePages_Free:        0\n",
            "HugePages_Rsvd:        0\n",
            "HugePages_Surp:        0\n",
            "Hugepagesize:       2048 kB\n",
            "DirectMap4k:      184308 kB\n",
            "DirectMap2M:     5058560 kB\n",
            "DirectMap1G:    10485760 kB\n"
          ],
          "name": "stdout"
        }
      ]
    },
    {
      "cell_type": "code",
      "metadata": {
        "id": "PCJ3aRrz5D9T",
        "colab_type": "code",
        "colab": {
          "base_uri": "https://localhost:8080/",
          "height": 782
        },
        "outputId": "3cc4605a-2fa2-4ba0-ffaf-1ad77e624926"
      },
      "source": [
        "!cat /proc/meminfo"
      ],
      "execution_count": 4,
      "outputs": [
        {
          "output_type": "stream",
          "text": [
            "MemTotal:       13335188 kB\n",
            "MemFree:        10275224 kB\n",
            "MemAvailable:   12263628 kB\n",
            "Buffers:           75616 kB\n",
            "Cached:          2025444 kB\n",
            "SwapCached:            0 kB\n",
            "Active:           813460 kB\n",
            "Inactive:        1845436 kB\n",
            "Active(anon):     483776 kB\n",
            "Inactive(anon):     8524 kB\n",
            "Active(file):     329684 kB\n",
            "Inactive(file):  1836912 kB\n",
            "Unevictable:           0 kB\n",
            "Mlocked:               0 kB\n",
            "SwapTotal:             0 kB\n",
            "SwapFree:              0 kB\n",
            "Dirty:               332 kB\n",
            "Writeback:             0 kB\n",
            "AnonPages:        558060 kB\n",
            "Mapped:           461480 kB\n",
            "Shmem:              9088 kB\n",
            "Slab:             165376 kB\n",
            "SReclaimable:     125624 kB\n",
            "SUnreclaim:        39752 kB\n",
            "KernelStack:        3808 kB\n",
            "PageTables:         6884 kB\n",
            "NFS_Unstable:          0 kB\n",
            "Bounce:                0 kB\n",
            "WritebackTmp:          0 kB\n",
            "CommitLimit:     6667592 kB\n",
            "Committed_AS:    3119440 kB\n",
            "VmallocTotal:   34359738367 kB\n",
            "VmallocUsed:           0 kB\n",
            "VmallocChunk:          0 kB\n",
            "AnonHugePages:         0 kB\n",
            "ShmemHugePages:        0 kB\n",
            "ShmemPmdMapped:        0 kB\n",
            "HugePages_Total:       0\n",
            "HugePages_Free:        0\n",
            "HugePages_Rsvd:        0\n",
            "HugePages_Surp:        0\n",
            "Hugepagesize:       2048 kB\n",
            "DirectMap4k:      184308 kB\n",
            "DirectMap2M:     5058560 kB\n",
            "DirectMap1G:    10485760 kB\n"
          ],
          "name": "stdout"
        }
      ]
    },
    {
      "cell_type": "code",
      "metadata": {
        "id": "MtseVWI65MlB",
        "colab_type": "code",
        "colab": {}
      },
      "source": [
        ""
      ],
      "execution_count": 0,
      "outputs": []
    }
  ]
}